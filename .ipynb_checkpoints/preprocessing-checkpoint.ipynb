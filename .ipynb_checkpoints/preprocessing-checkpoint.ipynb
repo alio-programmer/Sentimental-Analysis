{
 "cells": [
  {
   "cell_type": "code",
   "execution_count": 1,
   "id": "7f0d2742",
   "metadata": {},
   "outputs": [],
   "source": [
    "import nltk\n",
    "import os\n",
    "from nltk.tokenize import word_tokenize, sent_tokenize"
   ]
  },
  {
   "cell_type": "markdown",
   "id": "5308a0d4",
   "metadata": {},
   "source": [
    "STOPWORDS COLLECTION FROM STOPWORDS FOLDER"
   ]
  },
  {
   "cell_type": "code",
   "execution_count": 8,
   "id": "bf16af30",
   "metadata": {},
   "outputs": [],
   "source": [
    "new_stopword = []\n",
    "dir_path = r\"C:\\Users\\Gaurav\\BlackCoffers\\StopWords-20230901T191027Z-001\\StopWords\"\n",
    "for path in os.listdir(dir_path):\n",
    "    text_file_path = os.path.join(dir_path, path)\n",
    "    my_file_stpwrd = open(text_file_path, \"r\")\n",
    "    data = my_file_stpwrd.read()\n",
    "    new_stopword.extend(data.split(\"\\n\"))\n",
    "    my_file_stpwrd.close()"
   ]
  },
  {
   "cell_type": "code",
   "execution_count": 9,
   "id": "2796d35a",
   "metadata": {},
   "outputs": [
    {
     "data": {
      "text/plain": [
       "14111"
      ]
     },
     "execution_count": 9,
     "metadata": {},
     "output_type": "execute_result"
    }
   ],
   "source": [
    "len(new_stopword)"
   ]
  },
  {
   "cell_type": "markdown",
   "id": "4f1d2ff1",
   "metadata": {},
   "source": [
    "POSITIVE AND NEGATIVE WORDS COLLECTION FOR MASTER DICTIONARY"
   ]
  },
  {
   "cell_type": "code",
   "execution_count": 10,
   "id": "486a7d08",
   "metadata": {},
   "outputs": [],
   "source": [
    "my_file = open(r\"C:\\Users\\Gaurav\\BlackCoffers\\MasterDictionary-20230901T191027Z-001\\MasterDictionary\\positive-words.txt\", \"r\")\n",
    "my_file2 = open(r\"C:\\Users\\Gaurav\\BlackCoffers\\MasterDictionary-20230901T191027Z-001\\MasterDictionary\\negative-words.txt\", \"r\")\n",
    "data = my_file.read()\n",
    "data2 = my_file2.read()\n",
    "positive_words = data.split(\"\\n\")\n",
    "negative_words = data2.split(\"\\n\")\n",
    "my_file.close()\n",
    "my_file2.close()"
   ]
  },
  {
   "cell_type": "markdown",
   "id": "3401c56d",
   "metadata": {},
   "source": [
    "TOKENIZATION AND REMOVAL OF STOP WORDS OF THE WORDS"
   ]
  },
  {
   "cell_type": "code",
   "execution_count": 50,
   "id": "9e4d7b04",
   "metadata": {},
   "outputs": [],
   "source": [
    "def preprocess(file_name):\n",
    "    my_new_file = open(r\"{}\".format(file_name), \"r\", encoding=\"utf-8\")\n",
    "    file_text = my_new_file.read()\n",
    "    file_text.lower()\n",
    "    word_tokens = word_tokenize(file_text)\n",
    "    sent_tokens = sent_tokenize(file_text)\n",
    "    filtered_data = [words for words in word_tokens if not words in new_stopword]\n",
    "    my_new_file.close()\n",
    "    return filtered_data, word_tokens, sent_tokens"
   ]
  },
  {
   "cell_type": "code",
   "execution_count": 54,
   "id": "47bca619",
   "metadata": {},
   "outputs": [],
   "source": [
    "from nltk.stem import WordNetLemmatizer\n",
    "dir_path = \"C:/Users/Gaurav/BlackCoffers/new_saved_data/lower_cased_data\"\n",
    "def stemming_of_words():\n",
    "    for path in os.listdir(dir_path):\n",
    "        lemmatized_words = []\n",
    "        if os.path.isfile(os.path.join(dir_path, path)):\n",
    "            filtered_data, word_tokens, sent_tokens = preprocess(\"C:/Users/Gaurav/BlackCoffers/new_saved_data/lower_cased_data/{}\".format(path))\n",
    "            for w in filtered_data:\n",
    "                lemmatized_words.append(wnl.lemmatize(w))\n",
    "            file = open(r\"C:/Users/Gaurav/BlackCoffers/new_saved_data/stemmed_words/{}\".format(path),\"w\", encoding=\"utf-8\")\n",
    "            file.write(str(lemmatized_words))\n",
    "            file.close()\n",
    "stemming_of_words()"
   ]
  },
  {
   "cell_type": "code",
   "execution_count": null,
   "id": "78115081",
   "metadata": {},
   "outputs": [],
   "source": []
  },
  {
   "cell_type": "code",
   "execution_count": 29,
   "id": "ea3aeb38",
   "metadata": {},
   "outputs": [],
   "source": []
  }
 ],
 "metadata": {
  "kernelspec": {
   "display_name": "Python 3 (ipykernel)",
   "language": "python",
   "name": "python3"
  },
  "language_info": {
   "codemirror_mode": {
    "name": "ipython",
    "version": 3
   },
   "file_extension": ".py",
   "mimetype": "text/x-python",
   "name": "python",
   "nbconvert_exporter": "python",
   "pygments_lexer": "ipython3",
   "version": "3.9.7"
  }
 },
 "nbformat": 4,
 "nbformat_minor": 5
}
